{
 "cells": [
  {
   "cell_type": "code",
   "execution_count": 8,
   "id": "38bcdf24",
   "metadata": {},
   "outputs": [
    {
     "name": "stdout",
     "output_type": "stream",
     "text": [
      "Finished loading libs\n"
     ]
    }
   ],
   "source": [
    "import pandas as pd\n",
    "import seaborn as sns\n",
    "from sklearn import datasets, linear_model\n",
    "import matplotlib.pyplot as plt\n",
    "import numpy as np\n",
    "import sklearn\n",
    "from sklearn.linear_model import LinearRegression\n",
    "from IPython import display\n",
    "from sklearn import metrics\n",
    "figPath='./code_figures/'\n",
    "print('Finished loading libs')"
   ]
  },
  {
   "cell_type": "code",
   "execution_count": 9,
   "id": "a0c9a1d7",
   "metadata": {},
   "outputs": [
    {
     "name": "stdout",
     "output_type": "stream",
     "text": [
      "Num of points: 5\n"
     ]
    }
   ],
   "source": [
    "fileName='D:\\College Fall 2021\\AI\\Lab\\Car_Price_Project\\CarPrice_Assignment.csv'\n",
    "inputDf=pd.read_csv(fileName)\n",
    "numPoints=5\n",
    "print('Num of points:', numPoints)"
   ]
  },
  {
   "cell_type": "code",
   "execution_count": 10,
   "id": "bc55eb54",
   "metadata": {},
   "outputs": [
    {
     "data": {
      "text/plain": [
       "car_ID              0\n",
       "symboling           0\n",
       "CarName             0\n",
       "fueltype            0\n",
       "aspiration          0\n",
       "doornumber          0\n",
       "carbody             0\n",
       "drivewheel          0\n",
       "enginelocation      0\n",
       "wheelbase           0\n",
       "carlength           0\n",
       "carwidth            0\n",
       "carheight           0\n",
       "curbweight          0\n",
       "enginetype          0\n",
       "cylindernumber      0\n",
       "enginesize          0\n",
       "fuelsystem          0\n",
       "boreratio           0\n",
       "stroke              0\n",
       "compressionratio    0\n",
       "horsepower          0\n",
       "peakrpm             0\n",
       "citympg             0\n",
       "highwaympg          0\n",
       "price               0\n",
       "dtype: int64"
      ]
     },
     "execution_count": 10,
     "metadata": {},
     "output_type": "execute_result"
    }
   ],
   "source": [
    "#check if there is null data\n",
    "inputDf.isnull().sum()"
   ]
  },
  {
   "cell_type": "code",
   "execution_count": 11,
   "id": "2aecbd5e",
   "metadata": {},
   "outputs": [
    {
     "data": {
      "text/plain": [
       "LinearRegression()"
      ]
     },
     "execution_count": 11,
     "metadata": {},
     "output_type": "execute_result"
    }
   ],
   "source": [
    "#choose the model\n",
    "lm = LinearRegression()\n",
    "lm"
   ]
  },
  {
   "cell_type": "markdown",
   "id": "29113c23",
   "metadata": {},
   "source": [
    "Price VS Horsepower"
   ]
  },
  {
   "cell_type": "code",
   "execution_count": 12,
   "id": "5863e485",
   "metadata": {},
   "outputs": [
    {
     "name": "stdout",
     "output_type": "stream",
     "text": [
      "<class 'pandas.core.series.Series'>\n"
     ]
    }
   ],
   "source": [
    "#choose the training data\n",
    "type( inputDf.horsepower)\n",
    "X=inputDf.horsepower\n",
    "print( type(X) )\n",
    "X=X.values.reshape(-1, 1)\n",
    "\n",
    "#set thr Y\n",
    "Y=inputDf.price"
   ]
  },
  {
   "cell_type": "code",
   "execution_count": 13,
   "id": "7d751f83",
   "metadata": {},
   "outputs": [
    {
     "name": "stdout",
     "output_type": "stream",
     "text": [
      "coefficient: [163.26306097]\n",
      "the y intercept: -3721.7614943227636\n"
     ]
    }
   ],
   "source": [
    "#call the function\n",
    "lm.fit(X, Y)\n",
    "\n",
    "#check output\n",
    "print('coefficient:',lm.coef_)\n",
    "print('the y intercept:',lm.intercept_)"
   ]
  },
  {
   "cell_type": "raw",
   "id": "2244e850",
   "metadata": {},
   "source": [
    "the formula is y = mx + b\n",
    "where b is y intercept \n",
    "and y is the price \n",
    "and x is the horsepower/citymapg"
   ]
  },
  {
   "cell_type": "code",
   "execution_count": 14,
   "id": "5e76e7bb",
   "metadata": {},
   "outputs": [],
   "source": [
    "#use scikit learn to identify the training and testing data\n",
    "X_train, X_test, Y_train, Y_test = sklearn.model_selection.train_test_split(X, inputDf.price, test_size=0.3)"
   ]
  },
  {
   "cell_type": "code",
   "execution_count": 15,
   "id": "f90e8e78",
   "metadata": {},
   "outputs": [
    {
     "name": "stdout",
     "output_type": "stream",
     "text": [
      "Finsihed fitting model\n",
      "Finsihed testing\n"
     ]
    }
   ],
   "source": [
    "lm = LinearRegression()\n",
    "lm.fit(X_train, Y_train)\n",
    "print('Finsihed fitting model')\n",
    "\n",
    "#test\n",
    "pred_price_test = lm.predict(X_test)\n",
    "print('Finsihed testing')"
   ]
  },
  {
   "cell_type": "code",
   "execution_count": 16,
   "id": "356915e4",
   "metadata": {},
   "outputs": [
    {
     "data": {
      "text/html": [
       "<div>\n",
       "<style scoped>\n",
       "    .dataframe tbody tr th:only-of-type {\n",
       "        vertical-align: middle;\n",
       "    }\n",
       "\n",
       "    .dataframe tbody tr th {\n",
       "        vertical-align: top;\n",
       "    }\n",
       "\n",
       "    .dataframe thead th {\n",
       "        text-align: right;\n",
       "    }\n",
       "</style>\n",
       "<table border=\"1\" class=\"dataframe\">\n",
       "  <thead>\n",
       "    <tr style=\"text-align: right;\">\n",
       "      <th></th>\n",
       "      <th>Actual</th>\n",
       "      <th>Predicted</th>\n",
       "    </tr>\n",
       "  </thead>\n",
       "  <tbody>\n",
       "    <tr>\n",
       "      <th>94</th>\n",
       "      <td>7299.0</td>\n",
       "      <td>7701.152592</td>\n",
       "    </tr>\n",
       "    <tr>\n",
       "      <th>86</th>\n",
       "      <td>8189.0</td>\n",
       "      <td>10665.937810</td>\n",
       "    </tr>\n",
       "    <tr>\n",
       "      <th>35</th>\n",
       "      <td>7295.0</td>\n",
       "      <td>8793.441883</td>\n",
       "    </tr>\n",
       "    <tr>\n",
       "      <th>158</th>\n",
       "      <td>7898.0</td>\n",
       "      <td>5672.615338</td>\n",
       "    </tr>\n",
       "    <tr>\n",
       "      <th>76</th>\n",
       "      <td>5389.0</td>\n",
       "      <td>7545.111265</td>\n",
       "    </tr>\n",
       "  </tbody>\n",
       "</table>\n",
       "</div>"
      ],
      "text/plain": [
       "     Actual     Predicted\n",
       "94   7299.0   7701.152592\n",
       "86   8189.0  10665.937810\n",
       "35   7295.0   8793.441883\n",
       "158  7898.0   5672.615338\n",
       "76   5389.0   7545.111265"
      ]
     },
     "execution_count": 16,
     "metadata": {},
     "output_type": "execute_result"
    }
   ],
   "source": [
    "#compare between actual and predicted prices\n",
    "df = pd.DataFrame({'Actual': Y_test, 'Predicted': pred_price_test})\n",
    "df.head()"
   ]
  },
  {
   "cell_type": "code",
   "execution_count": 17,
   "id": "d523254b",
   "metadata": {},
   "outputs": [
    {
     "name": "stdout",
     "output_type": "stream",
     "text": [
      "Mean Absolute Error: 3279.161737265277\n",
      "Mean Squared Error: 20698507.79603739\n",
      "Root Mean Squared Error: 4549.561275116249\n"
     ]
    }
   ],
   "source": [
    "print('Mean Absolute Error:', metrics.mean_absolute_error(Y_test, pred_price_test))\n",
    "print('Mean Squared Error:', metrics.mean_squared_error(Y_test, pred_price_test))\n",
    "print('Root Mean Squared Error:', np.sqrt(metrics.mean_squared_error(Y_test, pred_price_test)))"
   ]
  },
  {
   "cell_type": "code",
   "execution_count": 18,
   "id": "bbd11bd0",
   "metadata": {},
   "outputs": [
    {
     "data": {
      "image/png": "[encoded data removed]",
      "text/plain": [
       "<Figure size 432x288 with 1 Axes>"
      ]
     },
     "metadata": {
      "needs_background": "light"
     },
     "output_type": "display_data"
    }
   ],
   "source": [
    "plt.scatter(X_train, Y_train, color = 'blue')\n",
    "plt.plot(X_train, lm.predict(X_train), color = 'black')\n",
    "plt.title('horsepower vs. price')\n",
    "plt.xlabel('Horsepower')\n",
    "plt.ylabel('Price')\n",
    "plt.show()"
   ]
  },
  {
   "cell_type": "markdown",
   "id": "3e3d827d",
   "metadata": {},
   "source": [
    "CityMpg vs Price"
   ]
  },
  {
   "cell_type": "code",
   "execution_count": 19,
   "id": "3b3460f3",
   "metadata": {},
   "outputs": [
    {
     "name": "stdout",
     "output_type": "stream",
     "text": [
      "<class 'pandas.core.series.Series'>\n"
     ]
    }
   ],
   "source": [
    "#choose the training data\n",
    "type( inputDf.citympg)\n",
    "X=inputDf.citympg\n",
    "print( type(X) )\n",
    "X=X.values.reshape(-1, 1)\n",
    "\n",
    "#set thr Y\n",
    "Y=inputDf.price"
   ]
  },
  {
   "cell_type": "code",
   "execution_count": 20,
   "id": "a4d43d24",
   "metadata": {},
   "outputs": [
    {
     "name": "stdout",
     "output_type": "stream",
     "text": [
      "coefficient: [-837.39644453]\n",
      "the y intercept: 34395.44041563233\n"
     ]
    }
   ],
   "source": [
    "lm.fit(X, Y)\n",
    "\n",
    "#check output\n",
    "print('coefficient:',lm.coef_)\n",
    "print('the y intercept:',lm.intercept_)"
   ]
  },
  {
   "cell_type": "code",
   "execution_count": 21,
   "id": "130ce883",
   "metadata": {},
   "outputs": [],
   "source": [
    "X_train, X_test, Y_train, Y_test = sklearn.model_selection.train_test_split(X, inputDf.price, test_size=0.3)"
   ]
  },
  {
   "cell_type": "code",
   "execution_count": 22,
   "id": "54d7706e",
   "metadata": {},
   "outputs": [
    {
     "name": "stdout",
     "output_type": "stream",
     "text": [
      "Finsihed fitting model\n",
      "Finsihed testing\n"
     ]
    }
   ],
   "source": [
    "lm = LinearRegression()\n",
    "lm.fit(X_train, Y_train)\n",
    "print('Finsihed fitting model')\n",
    "\n",
    "#test\n",
    "pred_price_test = lm.predict(X_test)\n",
    "print('Finsihed testing')"
   ]
  },
  {
   "cell_type": "code",
   "execution_count": 23,
   "id": "9fe749de",
   "metadata": {},
   "outputs": [
    {
     "data": {
      "text/html": [
       "<div>\n",
       "<style scoped>\n",
       "    .dataframe tbody tr th:only-of-type {\n",
       "        vertical-align: middle;\n",
       "    }\n",
       "\n",
       "    .dataframe tbody tr th {\n",
       "        vertical-align: top;\n",
       "    }\n",
       "\n",
       "    .dataframe thead th {\n",
       "        text-align: right;\n",
       "    }\n",
       "</style>\n",
       "<table border=\"1\" class=\"dataframe\">\n",
       "  <thead>\n",
       "    <tr style=\"text-align: right;\">\n",
       "      <th></th>\n",
       "      <th>Actual</th>\n",
       "      <th>Predicted</th>\n",
       "    </tr>\n",
       "  </thead>\n",
       "  <tbody>\n",
       "    <tr>\n",
       "      <th>75</th>\n",
       "      <td>16503.0</td>\n",
       "      <td>18060.842056</td>\n",
       "    </tr>\n",
       "    <tr>\n",
       "      <th>112</th>\n",
       "      <td>16900.0</td>\n",
       "      <td>10805.332601</td>\n",
       "    </tr>\n",
       "    <tr>\n",
       "      <th>161</th>\n",
       "      <td>8358.0</td>\n",
       "      <td>10805.332601</td>\n",
       "    </tr>\n",
       "    <tr>\n",
       "      <th>92</th>\n",
       "      <td>6849.0</td>\n",
       "      <td>8386.829449</td>\n",
       "    </tr>\n",
       "    <tr>\n",
       "      <th>76</th>\n",
       "      <td>5389.0</td>\n",
       "      <td>3549.823146</td>\n",
       "    </tr>\n",
       "  </tbody>\n",
       "</table>\n",
       "</div>"
      ],
      "text/plain": [
       "      Actual     Predicted\n",
       "75   16503.0  18060.842056\n",
       "112  16900.0  10805.332601\n",
       "161   8358.0  10805.332601\n",
       "92    6849.0   8386.829449\n",
       "76    5389.0   3549.823146"
      ]
     },
     "execution_count": 23,
     "metadata": {},
     "output_type": "execute_result"
    }
   ],
   "source": [
    "#compare between actual and predicted prices\n",
    "df = pd.DataFrame({'Actual': Y_test, 'Predicted': pred_price_test})\n",
    "df.head()"
   ]
  },
  {
   "cell_type": "code",
   "execution_count": 24,
   "id": "5ef5babf",
   "metadata": {},
   "outputs": [
    {
     "name": "stdout",
     "output_type": "stream",
     "text": [
      "Mean Absolute Error: 4646.371915760393\n",
      "Mean Squared Error: 40196586.273302466\n",
      "Root Mean Squared Error: 6340.077781329064\n"
     ]
    }
   ],
   "source": [
    "print('Mean Absolute Error:', metrics.mean_absolute_error(Y_test, pred_price_test))\n",
    "print('Mean Squared Error:', metrics.mean_squared_error(Y_test, pred_price_test))\n",
    "print('Root Mean Squared Error:', np.sqrt(metrics.mean_squared_error(Y_test, pred_price_test)))"
   ]
  },
  {
   "cell_type": "code",
   "execution_count": 25,
   "id": "35962508",
   "metadata": {},
   "outputs": [
    {
     "data": {
      "image/png": "[encoded data removed]",
      "text/plain": [
       "<Figure size 432x288 with 1 Axes>"
      ]
     },
     "metadata": {
      "needs_background": "light"
     },
     "output_type": "display_data"
    }
   ],
   "source": [
    "plt.scatter(X_train, Y_train, color = 'blue')\n",
    "plt.plot(X_train, lm.predict(X_train), color = 'black')\n",
    "plt.title('citympg vs. price')\n",
    "plt.xlabel('Citympg')\n",
    "plt.ylabel('Price')\n",
    "plt.show()"
   ]
  }
 ],
 "metadata": {
  "kernelspec": {
   "display_name": "Python 3",
   "language": "python",
   "name": "python3"
  },
  "language_info": {
   "codemirror_mode": {
    "name": "ipython",
    "version": 3
   },
   "file_extension": ".py",
   "mimetype": "text/x-python",
   "name": "python",
   "nbconvert_exporter": "python",
   "pygments_lexer": "ipython3",
   "version": "3.8.8"
  }
 },
 "nbformat": 4,
 "nbformat_minor": 5
}
